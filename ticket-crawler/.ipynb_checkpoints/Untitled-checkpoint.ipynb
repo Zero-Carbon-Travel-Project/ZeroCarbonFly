{
 "cells": [
  {
   "cell_type": "code",
   "execution_count": 1,
   "id": "4d32a4c1",
   "metadata": {},
   "outputs": [],
   "source": [
    "import test"
   ]
  },
  {
   "cell_type": "code",
   "execution_count": 2,
   "id": "cda86781",
   "metadata": {},
   "outputs": [
    {
     "data": {
      "text/plain": [
       "'https://www.kayak.com/flights/SEA-LAX2021-12-9/business?fs=cfc=2;bfc=2&sort=bestflight_a'"
      ]
     },
     "execution_count": 2,
     "metadata": {},
     "output_type": "execute_result"
    }
   ],
   "source": [
    "test.kayak_tickets(\"Seattle\",\"SEA\",\"LA\",\"LAX\",12,09,2021,\"business\",2,2)"
   ]
  },
  {
   "cell_type": "code",
   "execution_count": null,
   "id": "8bd38e5e",
   "metadata": {},
   "outputs": [],
   "source": []
  }
 ],
 "metadata": {
  "kernelspec": {
   "display_name": "Python 3 (ipykernel)",
   "language": "python",
   "name": "python3"
  },
  "language_info": {
   "codemirror_mode": {
    "name": "ipython",
    "version": 3
   },
   "file_extension": ".py",
   "mimetype": "text/x-python",
   "name": "python",
   "nbconvert_exporter": "python",
   "pygments_lexer": "ipython3",
   "version": "3.8.8"
  }
 },
 "nbformat": 4,
 "nbformat_minor": 5
}
