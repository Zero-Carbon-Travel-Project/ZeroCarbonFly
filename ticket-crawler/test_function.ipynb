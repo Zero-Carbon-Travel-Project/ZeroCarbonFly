{
 "cells": [
  {
   "cell_type": "code",
   "execution_count": 1,
   "metadata": {},
   "outputs": [
    {
     "name": "stdout",
     "output_type": "stream",
     "text": [
      "finished\n"
     ]
    }
   ],
   "source": [
    "import kayak\n",
    "kayak.kayak_tickets(\"SEA\",\"LAX\",\"12\",\"15\",\"2021\",\"business\",1,0)"
   ]
  },
  {
   "cell_type": "code",
   "execution_count": 2,
   "metadata": {},
   "outputs": [],
   "source": [
    "departure_airport_code = \"LAX\"\n",
    "arrival_airport_code = \"SFO\"\n",
    "year = \"2021\"\n",
    "month = \"12\"\n",
    "day = \"17\"\n",
    "class_type = \"business\"\n",
    "carry_on_bag_number = 1\n",
    "checked_bag_number = 2"
   ]
  },
  {
   "cell_type": "code",
   "execution_count": 3,
   "metadata": {},
   "outputs": [
    {
     "name": "stderr",
     "output_type": "stream",
     "text": [
      "C:\\Users\\I\\AppData\\Local\\Temp/ipykernel_11184/565752567.py:15: DeprecationWarning: executable_path has been deprecated, please pass in a Service object\n",
      "  bot = webdriver.Chrome(executable_path='assets/chromedriver.exe')\n",
      "C:\\Users\\I\\AppData\\Local\\Temp/ipykernel_11184/565752567.py:24: DeprecationWarning: find_element_by_* commands are deprecated. Please use find_element() instead\n",
      "  moreButton = bot.find_element_by_class_name('moreButton')\n"
     ]
    },
    {
     "name": "stdout",
     "output_type": "stream",
     "text": [
      "finished\n"
     ]
    }
   ],
   "source": [
    "from selenium import webdriver\n",
    "from bs4 import BeautifulSoup\n",
    "\n",
    "#import pandas as pd\n",
    "#import numpy as np\n",
    "#import requests as rq\n",
    "\n",
    "import time, datetime#, json\n",
    "import re\n",
    "\n",
    "root_url = \"https://www.kayak.com/flights/\"\n",
    "request_url = root_url + str(departure_airport_code) + \"-\" + str(arrival_airport_code) + \"/\" + str(year) + \"-\" + str(month) + \"-\" + str(day) + \"/\"+ str(class_type) + \"?fs=cfc=\" + str(carry_on_bag_number) + \";stops=~0;bfc=\" + str(checked_bag_number) + \"&sort=bestflight_a\"\n",
    "file_name = str(departure_airport_code) + str(arrival_airport_code) + str(year) + str(month) + str(day) + str(class_type) + str(carry_on_bag_number) + str(checked_bag_number) \n",
    "\n",
    "bot = webdriver.Chrome(executable_path='assets/chromedriver.exe')\n",
    "bot.get(request_url)\n",
    "\n",
    "f = open(\"assets/\"+file_name+\".csv\", \"a\", encoding=\"utf-8\") \n",
    "f.write(\"carrier,aircraft,depart_time,arrival_time,duration,price,time \\n\") \n",
    "start = datetime.datetime.now() \n",
    "\n",
    "try:\n",
    "    for i in range(10):\n",
    "        moreButton = bot.find_element_by_class_name('moreButton')\n",
    "        moreButton.click()\n",
    "        time.sleep(5)\n",
    "        i = i+1\n",
    "except:\n",
    "    pass\n",
    "\n",
    "soup = BeautifulSoup(bot.page_source, 'html5lib')\n",
    "flights = soup.find_all(\"div\",class_=\"resultWrapper\") \n",
    "time.sleep(15)\n",
    "\n",
    "for flight in flights:\n",
    "    try:\n",
    "        carrier = flight.find(\"div\",class_=re.compile(\"carrier-text\")).text.replace(\"\\n\",\"\")\n",
    "        aircraft = flight.find(\"div\",class_=re.compile(\"-aircraft-name\")).text.replace(\"\\n\",\"\")\n",
    "        depart_time = flight.find(\"div\",class_=re.compile(\"-departure-row\")).find(\"span\",class_=re.compile(\"time\")).text.replace(\"\\n\",\"\")\n",
    "        arrival_time = flight.find(\"div\",class_=re.compile(\"-arrival-row\")).find(\"span\",class_=re.compile(\"time\")).text .replace(\"\\n\",\"\")\n",
    "        duration = flight.find(\"div\",class_=re.compile(\"duration-text\")).text.replace(\"\\n\",\"\")\n",
    "        price = flight.find(\"span\",\"price option-text\").find(\"span\", \"price-text\").text.replace(\"\\n\",\"\")\n",
    "\n",
    "        record = \"%s,%s,%s,%s,%s,%s,%s \\n\" % (carrier,aircraft,depart_time,arrival_time,duration,price,start)\n",
    "        f.write(record)\n",
    "    except:\n",
    "        pass\n",
    "\n",
    "f.close()\n",
    "#bot.close()\n",
    "print(\"finished\")"
   ]
  }
 ],
 "metadata": {
  "interpreter": {
   "hash": "b3ba2566441a7c06988d0923437866b63cedc61552a5af99d1f4fb67d367b25f"
  },
  "kernelspec": {
   "display_name": "Python 3.8.8 64-bit ('base': conda)",
   "language": "python",
   "name": "python3"
  },
  "language_info": {
   "codemirror_mode": {
    "name": "ipython",
    "version": 3
   },
   "file_extension": ".py",
   "mimetype": "text/x-python",
   "name": "python",
   "nbconvert_exporter": "python",
   "pygments_lexer": "ipython3",
   "version": "3.8.8"
  },
  "orig_nbformat": 4
 },
 "nbformat": 4,
 "nbformat_minor": 2
}
