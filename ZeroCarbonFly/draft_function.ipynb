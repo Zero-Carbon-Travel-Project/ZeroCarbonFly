{
 "cells": [
  {
   "cell_type": "code",
   "execution_count": 1,
   "id": "9560df95",
   "metadata": {},
   "outputs": [],
   "source": [
    "departure_airport_code = \"LAX\"\n",
    "arrival_airport_code = \"SFO\"\n",
    "year = \"2022\"\n",
    "month = \"01\"\n",
    "day = \"09\"\n",
    "class_type = \"business\"\n",
    "carry_on_bag_number = 1\n",
    "checked_bag_number = 2\n",
    "\n",
    "\n",
    "root_url = \"https://www.kayak.com/flights/\"\n",
    "request_url = root_url + str(departure_airport_code) + \"-\" + str(arrival_airport_code) + \"/\" + str(year) + \"-\" + str(month) + \"-\" + str(day) + \"/\"+ str(class_type) + \"?fs=cfc=\" + str(carry_on_bag_number) + \";stops=~0;bfc=\" + str(checked_bag_number) + \"&sort=bestflight_a\"\n",
    "file_name = str(departure_airport_code) + str(arrival_airport_code) + str(year) + str(month) + str(day) + str(class_type) + str(carry_on_bag_number) + str(checked_bag_number) "
   ]
  },
  {
   "cell_type": "markdown",
   "id": "80922a46",
   "metadata": {},
   "source": [
    "# Seleuinm"
   ]
  },
  {
   "cell_type": "code",
   "execution_count": 2,
   "id": "7fdba025",
   "metadata": {},
   "outputs": [],
   "source": [
    "from selenium import webdriver\n",
    "from bs4 import BeautifulSoup\n",
    "import time, datetime, json\n",
    "\n",
    "import pandas as pd\n",
    "import numpy as np\n",
    "\n",
    "import re"
   ]
  },
  {
   "cell_type": "code",
   "execution_count": 3,
   "id": "c4e568ca",
   "metadata": {},
   "outputs": [
    {
     "name": "stderr",
     "output_type": "stream",
     "text": [
      "C:\\Users\\I\\AppData\\Local\\Temp/ipykernel_18020/3274476028.py:1: DeprecationWarning: executable_path has been deprecated, please pass in a Service object\n",
      "  bot = webdriver.Chrome(executable_path='assets/chromedriver.exe')\n"
     ]
    }
   ],
   "source": [
    "bot = webdriver.Chrome(executable_path='assets/chromedriver.exe')\n",
    "bot.get(request_url)"
   ]
  },
  {
   "cell_type": "code",
   "execution_count": 4,
   "id": "951a8174",
   "metadata": {},
   "outputs": [],
   "source": [
    "f = open(\"assets/\"+file_name+\".csv\", \"a\", encoding=\"utf-8\") # create a csv file to store the collected tweets.\n",
    "f.write(\"carrier,aircraft,depart_time,arrival_time,duration,price \\n\") # read the csv header\n",
    "start = datetime.datetime.now() # record the current time.\n",
    "time_limit = 60 # this crawler will run 60 minutes\n",
    "texts = [] # an array to store each content of the collected tweets."
   ]
  },
  {
   "cell_type": "code",
   "execution_count": 5,
   "id": "52ac41e9",
   "metadata": {},
   "outputs": [
    {
     "name": "stderr",
     "output_type": "stream",
     "text": [
      "C:\\Users\\I\\AppData\\Local\\Temp/ipykernel_18020/2381766792.py:4: DeprecationWarning: find_element_by_* commands are deprecated. Please use find_element() instead\n",
      "  MoreButton = bot.find_element_by_class_name('moreButton')\n"
     ]
    }
   ],
   "source": [
    "try:\n",
    "    i = 0\n",
    "    for i in range(10):\n",
    "        MoreButton = bot.find_element_by_class_name('moreButton')\n",
    "        MoreButton.click()\n",
    "        time.sleep(5)\n",
    "        i = i+1\n",
    "except:\n",
    "    pass"
   ]
  },
  {
   "cell_type": "code",
   "execution_count": 6,
   "id": "da17ecfb",
   "metadata": {},
   "outputs": [],
   "source": [
    "soup = BeautifulSoup(bot.page_source, 'html5lib')\n",
    "flights = soup.find_all(\"div\",class_=\"resultWrapper\") "
   ]
  },
  {
   "cell_type": "code",
   "execution_count": 18,
   "id": "a549fa50",
   "metadata": {},
   "outputs": [],
   "source": [
    "for flight in flights:\n",
    "    try:\n",
    "        carrier = flight.find(\"div\",class_=re.compile(\"carrier-text\")).text.replace(\"\\n\",\"\")\n",
    "        aircraft = flight.find(\"div\",class_=re.compile(\"-aircraft-name\")).text.replace(\"\\n\",\"\")\n",
    "        depart_time = flight.find(\"div\",class_=re.compile(\"-departure-row\")).find(\"span\",class_=re.compile(\"time\")).text.replace(\"\\n\",\"\")\n",
    "        arrival_time = flight.find(\"div\",class_=re.compile(\"-arrival-row\")).find(\"span\",class_=re.compile(\"time\")).text .replace(\"\\n\",\"\")\n",
    "        duration = flight.find(\"div\",class_=re.compile(\"duration-text\")).text.replace(\"\\n\",\"\")\n",
    "        price = flight.find(\"span\",\"price option-text\").find(\"span\", \"price-text\").text.replace(\"\\n\",\"\")\n",
    "\n",
    "        record = \"%s,%s,%s,%s,%s,%s \\n\" % (carrier,aircraft,depart_time,arrival_time,duration,price)\n",
    "        f.write(record)\n",
    "    except:\n",
    "        pass\n"
   ]
  },
  {
   "cell_type": "code",
   "execution_count": 20,
   "id": "2570e0f6",
   "metadata": {},
   "outputs": [
    {
     "ename": "NameError",
     "evalue": "name 'record' is not defined",
     "output_type": "error",
     "traceback": [
      "\u001b[1;31m---------------------------------------------------------------------------\u001b[0m",
      "\u001b[1;31mNameError\u001b[0m                                 Traceback (most recent call last)",
      "\u001b[1;32m~\\AppData\\Local\\Temp/ipykernel_18020/3531500957.py\u001b[0m in \u001b[0;36m<module>\u001b[1;34m\u001b[0m\n\u001b[1;32m----> 1\u001b[1;33m \u001b[0mrecord\u001b[0m\u001b[1;33m\u001b[0m\u001b[1;33m\u001b[0m\u001b[0m\n\u001b[0m",
      "\u001b[1;31mNameError\u001b[0m: name 'record' is not defined"
     ]
    }
   ],
   "source": [
    "record"
   ]
  },
  {
   "cell_type": "code",
   "execution_count": 8,
   "id": "229fba2f",
   "metadata": {},
   "outputs": [],
   "source": [
    "f.close()"
   ]
  },
  {
   "cell_type": "code",
   "execution_count": null,
   "id": "30d0cb1e",
   "metadata": {},
   "outputs": [],
   "source": [
    "chrome_options = webdriver.ChromeOptions()\n",
    "chrome_prefs = {\n",
    "    \"profile.default_content_setting_values\": {\n",
    "        \"images\": 2,\n",
    "        \"javascript\": 2,\n",
    "    }\n",
    "}\n",
    "chrome_options.experimental_options[\"prefs\"] = chrome_prefs"
   ]
  },
  {
   "cell_type": "code",
   "execution_count": null,
   "id": "f50c8056",
   "metadata": {},
   "outputs": [],
   "source": [
    "driver.get(request_url)\n",
    "timeout = 15"
   ]
  },
  {
   "cell_type": "code",
   "execution_count": null,
   "id": "8ff88969",
   "metadata": {},
   "outputs": [],
   "source": [
    "job_list = driver.find_elements_by_xpath(\"//div[contains(@class, 'Flights-Results-ResultInfo')]\")"
   ]
  },
  {
   "cell_type": "code",
   "execution_count": null,
   "id": "67419a40",
   "metadata": {},
   "outputs": [],
   "source": [
    "job_list[1]"
   ]
  },
  {
   "cell_type": "code",
   "execution_count": null,
   "id": "d0589c9c",
   "metadata": {},
   "outputs": [],
   "source": [
    "driver.find_elements_by_xpath?"
   ]
  },
  {
   "cell_type": "code",
   "execution_count": null,
   "id": "36d5833b",
   "metadata": {},
   "outputs": [],
   "source": [
    "url_content = rq.get(request_url)\n",
    "\n",
    "url_content.encoding=url_content.apparent_encoding\n",
    "\n",
    "url_html = BeautifulSoup(url_content.text,'lxml')\n",
    "\n",
    "vueuhi = url_html.select(\"#ybUS-info-leg-0 > div > div.section.times > div.top > span:nth-child(1) > span.depart-time.base-time\")"
   ]
  },
  {
   "cell_type": "code",
   "execution_count": null,
   "id": "55634d6d",
   "metadata": {},
   "outputs": [],
   "source": []
  },
  {
   "cell_type": "code",
   "execution_count": null,
   "id": "24574641",
   "metadata": {},
   "outputs": [],
   "source": [
    "from requests_html import HTMLSession"
   ]
  },
  {
   "cell_type": "code",
   "execution_count": null,
   "id": "6db3346f",
   "metadata": {
    "scrolled": false
   },
   "outputs": [],
   "source": [
    "session = HTMLSession()\n",
    "r = session.get(request_url)\n",
    "print(r.html.text)"
   ]
  },
  {
   "cell_type": "code",
   "execution_count": null,
   "id": "b30b2c70",
   "metadata": {},
   "outputs": [],
   "source": [
    "vueuhi = r.html.find(\"#ybUS-info-leg-0 > div > div.section.times > div.top > span:nth-child(1) > span.depart-time.base-time\")\n",
    "vueuhi"
   ]
  },
  {
   "cell_type": "code",
   "execution_count": null,
   "id": "cb2f86c3",
   "metadata": {
    "scrolled": false
   },
   "outputs": [],
   "source": [
    "vueuhi[0].text"
   ]
  },
  {
   "cell_type": "code",
   "execution_count": null,
   "id": "d5b83900",
   "metadata": {},
   "outputs": [],
   "source": []
  }
 ],
 "metadata": {
  "kernelspec": {
   "display_name": "Python 3 (ipykernel)",
   "language": "python",
   "name": "python3"
  },
  "language_info": {
   "codemirror_mode": {
    "name": "ipython",
    "version": 3
   },
   "file_extension": ".py",
   "mimetype": "text/x-python",
   "name": "python",
   "nbconvert_exporter": "python",
   "pygments_lexer": "ipython3",
   "version": "3.8.8"
  }
 },
 "nbformat": 4,
 "nbformat_minor": 5
}
