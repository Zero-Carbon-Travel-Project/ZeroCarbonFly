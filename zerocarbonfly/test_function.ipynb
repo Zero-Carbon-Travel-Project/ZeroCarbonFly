{
 "cells": [
  {
   "cell_type": "code",
   "execution_count": 11,
   "metadata": {},
   "outputs": [
    {
     "name": "stdout",
     "output_type": "stream",
     "text": [
      "open chrome finished\n",
      "click buttoms finished\n",
      "crwaling finished\n"
     ]
    }
   ],
   "source": [
    "import kayak\n",
    "df = kayak.kayak_tickets(\"SEA\",\"LAX\",\"12\",\"15\",\"2021\",\"business\",1,0)"
   ]
  },
  {
   "cell_type": "code",
   "execution_count": 12,
   "metadata": {},
   "outputs": [],
   "source": [
    "df.to_excel(\"output.xlsx\") "
   ]
  },
  {
   "cell_type": "code",
   "execution_count": 5,
   "metadata": {},
   "outputs": [],
   "source": [
    "departure_airport_code = \"LAX\"\n",
    "arrival_airport_code = \"SFO\"\n",
    "year = \"2021\"\n",
    "month = \"12\"\n",
    "day = \"17\"\n",
    "class_type = \"business\"\n",
    "carry_on_bag_number = 1\n",
    "checked_bag_number = 2"
   ]
  },
  {
   "cell_type": "code",
   "execution_count": 6,
   "metadata": {},
   "outputs": [
    {
     "name": "stderr",
     "output_type": "stream",
     "text": [
      "<ipython-input-6-86476754a1ae>:15: DeprecationWarning: executable_path has been deprecated, please pass in a Service object\n",
      "  bot = webdriver.Chrome(executable_path='assets/chromedriver.exe')\n",
      "<ipython-input-6-86476754a1ae>:24: DeprecationWarning: find_element_by_* commands are deprecated. Please use find_element() instead\n",
      "  moreButton = bot.find_element_by_class_name('moreButton')\n"
     ]
    },
    {
     "name": "stdout",
     "output_type": "stream",
     "text": [
      "finished\n"
     ]
    }
   ],
   "source": [
    "from selenium import webdriver\n",
    "from bs4 import BeautifulSoup\n",
    "\n",
    "#import pandas as pd\n",
    "#import numpy as np\n",
    "#import requests as rq\n",
    "\n",
    "import time, datetime#, json\n",
    "import re\n",
    "\n",
    "root_url = \"https://www.kayak.com/flights/\"\n",
    "request_url = root_url + str(departure_airport_code) + \"-\" + str(arrival_airport_code) + \"/\" + str(year) + \"-\" + str(month) + \"-\" + str(day) + \"/\"+ str(class_type) + \"?fs=cfc=\" + str(carry_on_bag_number) + \";stops=~0;bfc=\" + str(checked_bag_number) + \"&sort=bestflight_a\"\n",
    "file_name = str(departure_airport_code) + str(arrival_airport_code) + str(year) + str(month) + str(day) + str(class_type) + str(carry_on_bag_number) + str(checked_bag_number) \n",
    "\n",
    "bot = webdriver.Chrome(executable_path='assets/chromedriver.exe')\n",
    "bot.get(request_url)\n",
    "\n",
    "f = open(\"assets/\"+file_name+\".csv\", \"a\", encoding=\"utf-8\") \n",
    "f.write(\"carrier,aircraft,depart_time,arrival_time,duration,price,time \\n\") \n",
    "start = datetime.datetime.now() \n",
    "\n",
    "try:\n",
    "    for i in range(10):\n",
    "        moreButton = bot.find_element_by_class_name('moreButton')\n",
    "        moreButton.click()\n",
    "        time.sleep(5)\n",
    "        i = i+1\n",
    "except:\n",
    "    pass\n",
    "\n",
    "soup = BeautifulSoup(bot.page_source, 'html5lib')\n",
    "flights = soup.find_all(\"div\",class_=\"resultWrapper\") \n",
    "time.sleep(15)\n",
    "\n",
    "for flight in flights:\n",
    "    try:\n",
    "        carrier = flight.find(\"div\",class_=re.compile(\"carrier-text\")).text.replace(\"\\n\",\"\")\n",
    "        aircraft = flight.find(\"div\",class_=re.compile(\"-aircraft-name\")).text.replace(\"\\n\",\"\")\n",
    "        depart_time = flight.find(\"div\",class_=re.compile(\"-departure-row\")).find(\"span\",class_=re.compile(\"time\")).text.replace(\"\\n\",\"\")\n",
    "        arrival_time = flight.find(\"div\",class_=re.compile(\"-arrival-row\")).find(\"span\",class_=re.compile(\"time\")).text .replace(\"\\n\",\"\")\n",
    "        duration = flight.find(\"div\",class_=re.compile(\"duration-text\")).text.replace(\"\\n\",\"\")\n",
    "        price = flight.find(\"span\",\"price option-text\").find(\"span\", \"price-text\").text.replace(\"\\n\",\"\")\n",
    "\n",
    "        record = \"%s,%s,%s,%s,%s,%s,%s \\n\" % (carrier,aircraft,depart_time,arrival_time,duration,price,start)\n",
    "        f.write(record)\n",
    "    except:\n",
    "        pass\n",
    "\n",
    "f.close()\n",
    "#bot.close()\n",
    "print(\"finished\")"
   ]
  },
  {
   "cell_type": "code",
   "execution_count": 8,
   "metadata": {},
   "outputs": [
    {
     "data": {
      "text/plain": [
       "0.038613840270946796"
      ]
     },
     "execution_count": 8,
     "metadata": {},
     "output_type": "execute_result"
    }
   ],
   "source": [
    "filename_airport = './airports.csv'\n",
    "filename_aircraft = './aircraft.csv'\n",
    "\n",
    "\n",
    "import pandas as pd\n",
    "df_airport = pd.read_csv(filename_airport)\n",
    "df_airport.head()\n",
    "\n",
    "\n",
    "df_aircraft = pd.read_csv(filename_aircraft)\n",
    "df_aircraft.head()\n",
    "\n",
    "\n",
    "def get_airport_lat_long(df,airport_code):\n",
    "    mask = df['iata_code']==airport_code.upper()\n",
    "    lat  = df.loc[mask]['latitude_deg'].values[0]\n",
    "    long = df.loc[mask]['longitude_deg'].values[0]\n",
    "    return lat,long\n",
    "\n",
    "\n",
    "\n",
    "def get_aircraft_info(df,aircraft_type):\n",
    "    mask = df['Model']==aircraft_type\n",
    "    fuleburn  = float(df.loc[mask]['Fuel burn(kg/km)'].values[0])\n",
    "    num_of_seats = int(df.loc[mask]['Seats'].values[0])\n",
    "    return fuleburn,num_of_seats\n",
    "\n",
    "\n",
    "\n",
    "import math\n",
    "def get_great_circle_distance(dept_lat,dept_long,arrival_lat, arrival_long):\n",
    "    x1 = math.radians(dept_lat)\n",
    "    y1 = math.radians(dept_long)\n",
    "    x2 = math.radians(arrival_lat)\n",
    "    y2 = math.radians(arrival_long)\n",
    "    \n",
    "    angle = math.degrees(math.acos(math.sin(x1)*math.sin(x2)+math.cos(x1) * math.cos(x2) * math.cos(y1 - y2)))\n",
    "    \n",
    "    # Angel times 60 to get nautical miles, then times 1.852 to get km\n",
    "    distance = 60 * angle * 1.852\n",
    "    \n",
    "    return distance\n",
    "\n",
    "\n",
    "\n",
    "# ICAO's carbon emissions formula. \n",
    "def get_co2_emission(fuel_burn,num_of_seats,distance,num_of_pax):\n",
    "    # Correction to GCD distance\n",
    "    if distance < 550:\n",
    "        distance += 50\n",
    "    elif distance >= 550 and distance <= 5500:\n",
    "        distance += 100\n",
    "    else:\n",
    "        distance += 125\n",
    "    pax_load_factor =  0.80\n",
    "    pax_to_freight_factor = 0.85\n",
    "    # fuel burn: kg/km\n",
    "    total_fuel = fuel_burn/1000 * distance\n",
    "    \n",
    "    co2_per_pax = 3.16 * ( total_fuel * pax_to_freight_factor)/(num_of_seats * pax_load_factor)\n",
    "    emission = co2_per_pax * num_of_pax\n",
    "    return emission\n",
    "\n",
    "\n",
    "\n",
    "departure_airport_code = \"LAX\"\n",
    "arrival_airport_code = \"SFO\"\n",
    "aircraft='Airbus A320'\n",
    "num_of_pax = 1\n",
    "\n",
    "d_lat, d_long= get_airport_lat_long(df_airport,departure_airport_code)\n",
    "a_lat, a_long= get_airport_lat_long(df_airport,arrival_airport_code)\n",
    "distance = get_great_circle_distance(d_lat,d_long,a_lat,a_long)\n",
    "\n",
    "fuel_burn, num_of_seats=get_aircraft_info(df_aircraft,aircraft)\n",
    "\n",
    "get_co2_emission(fuel_burn,num_of_seats,distance,num_of_pax)\n",
    "\n"
   ]
  },
  {
   "cell_type": "code",
   "execution_count": 9,
   "metadata": {},
   "outputs": [
    {
     "name": "stderr",
     "output_type": "stream",
     "text": [
      "2021-12-07 07:55:58.896 \n",
      "  \u001b[33m\u001b[1mWarning:\u001b[0m to view this Streamlit app on a browser, run it with the following\n",
      "  command:\n",
      "\n",
      "    streamlit run  [ARGUMENTS]\n"
     ]
    }
   ],
   "source": [
    "import streamlit as st\n",
    "import streamlit.components.v1 as components\n",
    "import matplotlib.pyplot as plt\n",
    "import kayak\n",
    "\n",
    "st.title('Zero-Carbon Travel')\n",
    "\n",
    "airport_code = df_airport['iata_code'].tolist()\n",
    "airport_code = [x for x in airport_code if pd.isnull(x) == False]\n",
    "class_list = ['Economy', 'Business', 'Premium', 'First']\n",
    "\n",
    "\n",
    "st.sidebar.title('Find flights:')\n",
    "departure_airport_code = st.sidebar.selectbox('Departure Airport', airport_code)\n",
    "arrival_airport_code = st.sidebar.selectbox('Arrival Airport', airport_code)\n",
    "date = st.sidebar.date_input('Flight Date')\n",
    "class_type = st.sidebar.selectbox('Class Type', class_list)\n",
    "num_of_pax = st.sidebar.slider('Number of Passengers', min_value=1, max_value=10)\n",
    "carry_on_bag_number = st.sidebar.selectbox('Carry-on Bags', [0,1])\n",
    "checked_bag_number = st.sidebar.selectbox('Checked Bags', [0,1,2])\n",
    "\n",
    "\n",
    "date = pd.to_datetime(date)\n",
    "day = str(date.day)\n",
    "month= str(date.month)\n",
    "year= str(date.year)\n",
    "\n",
    "\n",
    "\n",
    "if st.sidebar.button('Submit'):\n",
    "    with st.spinner('Finding flights...'):\n",
    "        #df = kayak.kayak_tickets(departure_airport_code,arrival_airport_code,month,day,year,class_type,carry_on_bag_number,checked_bag_number)\n",
    "        df = kayak.kayak_tickets(\"SEA\",\"LAX\",\"12\",\"15\",\"2021\",\"business\",1,0)\n",
    "        st.dataframe(df)\n",
    "    st.success('Done!')\n"
   ]
  },
  {
   "cell_type": "code",
   "execution_count": null,
   "metadata": {},
   "outputs": [],
   "source": []
  }
 ],
 "metadata": {
  "interpreter": {
   "hash": "b3ba2566441a7c06988d0923437866b63cedc61552a5af99d1f4fb67d367b25f"
  },
  "kernelspec": {
   "display_name": "Python 3 (Spyder)",
   "language": "python3",
   "name": "python3"
  },
  "language_info": {
   "codemirror_mode": {
    "name": "ipython",
    "version": 3
   },
   "file_extension": ".py",
   "mimetype": "text/x-python",
   "name": "python",
   "nbconvert_exporter": "python",
   "pygments_lexer": "ipython3",
   "version": "3.8.8"
  }
 },
 "nbformat": 4,
 "nbformat_minor": 2
}
